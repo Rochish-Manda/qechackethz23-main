{
 "cells": [
  {
   "cell_type": "markdown",
   "id": "833b7d13",
   "metadata": {
    "slideshow": {
     "slide_type": "-"
    }
   },
   "source": [
    "<img src=\"files/QHack_poster.png\" >"
   ]
  },
  {
   "cell_type": "markdown",
   "id": "a24ec270",
   "metadata": {
    "slideshow": {
     "slide_type": "-"
    }
   },
   "source": [
    "<img src=\"files/MA_RGB_Blue.jpg\" width=\"200\">"
   ]
  },
  {
   "cell_type": "code",
   "execution_count": 28,
   "id": "2b3c6dca",
   "metadata": {},
   "outputs": [],
   "source": [
    "import numpy as np\n",
    "import qiskit\n",
    "import qiskit_finance\n",
    "from qiskit.algorithms import EstimationProblem, IterativeAmplitudeEstimation, MaximumLikelihoodAmplitudeEstimation\n",
    "from qiskit_aer.primitives import Sampler\n",
    "import matplotlib.pyplot as plt\n",
    "import time"
   ]
  },
  {
   "cell_type": "code",
   "execution_count": 2,
   "id": "d08ebcb4",
   "metadata": {},
   "outputs": [
    {
     "data": {
      "text/html": [
       "<h3>Version Information</h3><table><tr><th>Qiskit Software</th><th>Version</th></tr><tr><td><code>qiskit-terra</code></td><td>0.24.0</td></tr><tr><td><code>qiskit-aer</code></td><td>0.12.0</td></tr><tr><td><code>qiskit-ibmq-provider</code></td><td>0.20.2</td></tr><tr><td><code>qiskit</code></td><td>0.43.0</td></tr><tr><td><code>qiskit-finance</code></td><td>0.3.4</td></tr><tr><td><code>qiskit-optimization</code></td><td>0.5.0</td></tr><tr><th>System information</th></tr><tr><td>Python version</td><td>3.11.3</td></tr><tr><td>Python compiler</td><td>GCC 11.2.0</td></tr><tr><td>Python build</td><td>main, Apr 19 2023 23:54:32</td></tr><tr><td>OS</td><td>Linux</td></tr><tr><td>CPUs</td><td>4</td></tr><tr><td>Memory (Gb)</td><td>7.371368408203125</td></tr><tr><td colspan='2'>Sat May 06 22:32:19 2023 CEST</td></tr></table>"
      ],
      "text/plain": [
       "<IPython.core.display.HTML object>"
      ]
     },
     "metadata": {},
     "output_type": "display_data"
    }
   ],
   "source": [
    "import qiskit.tools.jupyter\n",
    "%qiskit_version_table"
   ]
  },
  {
   "cell_type": "markdown",
   "id": "bcb0ebad",
   "metadata": {
    "slideshow": {
     "slide_type": "-"
    }
   },
   "source": [
    "<font color=blue>\n",
    "    \n",
    "# The path to Quantum in production in the Financial Industry \n",
    "# The use case of Quantum Monte Carlo Simulation \n",
    "\n",
    "</font>"
   ]
  },
  {
   "cell_type": "markdown",
   "id": "f661cb8c",
   "metadata": {
    "slideshow": {
     "slide_type": "-"
    }
   },
   "source": [
    "## Learning objectives of the challenge\n",
    "\n",
    "**MAIN LEARNING OBJECTIVES**\n",
    "1. Mapping a real problem to a quantum circuit. \n",
    "2. Programming quantum circuits. \n",
    "3. Optimizing quantum algorithms. \n",
    "\n",
    "**ABOUT THE INDUSTRY**\n",
    "\n",
    "<div class=\"alert alert-block alert-success\">\n",
    "    \n",
    "- What are the companies with potential use cases of quantum computing doing right now to prepare? \n",
    "    \n",
    "- Why do financial institutions need to invest in Quantum Computing?\n",
    "    \n",
    "- What innovation framework do companies use to decide what emerging technology should be investigated?\n",
    "    \n",
    "</div>\n",
    "\n",
    "\n",
    "\n",
    "**ABOUT THE PROBLEMS. SIZE. CLASSICAL METHODS. AND ~QUANTUM~ BUSINESS ADVANTAGE**\n",
    "<div class=\"alert alert-block alert-success\">\n",
    "\n",
    "* What is the size of the problems real companies need to solve in production and when does quantum become relevant?\n",
    "\n",
    "* What state of the art methods would quantum have to compete with?\n",
    "\n",
    "* What benchmarks should we do to decide if we substitute a classical method with a quantum one?\n",
    "\n",
    "* Should we talk about quantum advantage or business advantage?\n",
    "    \n",
    "</div>\n",
    "\n",
    "**ABOUT INTEGRATION AND \"QuantumOps\"**\n",
    "\n",
    "<div class=\"alert alert-block alert-success\">\n",
    "\n",
    "* What tools/ libraries need to be used in order to integrate quantum with other accelerators such as GPUs/ CPUs/ FPGAs etc?\n",
    "\n",
    "* How do you orchestrate all the resources needed to solve a production size problem?\n",
    "\n",
    "* How to manage the life cycle of a model in production?\n",
    "\n",
    "* How do we integrate a quantum computer, with the current infrastructure a company has?\n",
    "\n",
    "* How do we integrate a quantum solver with the current software products a company has?\n",
    "\n",
    "* What are all the layers that we have to take into consideration when using a quantum computer in production? </div>"
   ]
  },
  {
   "cell_type": "markdown",
   "id": "33e41541",
   "metadata": {
    "slideshow": {
     "slide_type": "-"
    }
   },
   "source": [
    "## The challenge"
   ]
  },
  {
   "cell_type": "markdown",
   "id": "71368cc4",
   "metadata": {
    "slideshow": {
     "slide_type": "-"
    }
   },
   "source": [
    "### Problem Statement \n",
    "\n",
    "Let $S_t$ be a stochastic process indexed by time $t$. Let the dynamics of $S_t$ be given by:\n",
    "\n",
    "**Eq. (1)** $$ dS_t = \\mu S_t dt + \\sigma S_t dW_t $$ \n",
    "\n",
    "where $S_0=1$, $\\mu= 0.1$ and $\\sigma= 0.2$ are constants, and $dW_{t}$ is change in a standard Gaussian process in $dt$ time and can be thought of as:\n",
    "\n",
    "$$dW_t=\\mathcal{N}(0,1)\\sqrt{dt}$$\n",
    "\n",
    "\n",
    "This kind of stochastic process is known as a geometric Brownian motion (GBM) (also known as exponential Brownian motion).\n",
    "\n",
    "\n",
    "### SECTION 1: The classical solution. Monte Carlo Simulation.\n",
    "\n",
    "Using the above write a simulation code to compute:\n",
    "\n",
    "* $\\mathbb{E}[S_T]$\n",
    "\n",
    "where T=10\n",
    "\n",
    "Some theory:\n",
    "\n",
    "* The expectation of a random variable can be estimated by averaging samples (let $X \\stackrel{}{\\sim} p(x)$):\n",
    "$$\\mathbb{E}[X]= \\int xp(x)dx \\approx \\frac{1}{N}\\sum_{j=1}^{N}X_j $$\n",
    "\n",
    "* When performed on a digital computer (classical or quantum), any continuous $p(x)$ must be truncated and discretised:\n",
    "$$\\mathbb{E}[X]= \\sum_x xp(x) \\approx \\frac{1}{N}\\sum_{j=1}^{N}X_j $$\n",
    "\n",
    "\n",
    "<div class=\"alert alert-block alert-warning\">\n",
    "<b>Hints:</b> \n",
    "    \n",
    "- Discretize the time between t=0 to t=T in 100 steps.\n",
    "- Use **Eq. (1)** to generate 10000 paths between t=0 to t=T (discretize the differential equation.)\n",
    "- Compute the expectation by averaging over the paths.\n",
    "- Another option is to use the analytical solution of the SDE, which is possible for this Stochastical Differential equation.\n",
    "    \n",
    "</div>\n"
   ]
  },
  {
   "cell_type": "markdown",
   "id": "22eb84dc",
   "metadata": {
    "slideshow": {
     "slide_type": "-"
    }
   },
   "source": [
    "This problem is usually solved using Monte Carlo simulation. Monte Carlo sampling is a set of techniques that randomly generate numerical quantities for the purpose of simulating a statistical distribution or computing a moment or other expectation thereof (e.g., mean, variance)."
   ]
  },
  {
   "cell_type": "code",
   "execution_count": 95,
   "id": "5ad18181",
   "metadata": {},
   "outputs": [],
   "source": [
    "mu = 0.1\n",
    "sigma = 0.2"
   ]
  },
  {
   "cell_type": "code",
   "execution_count": 96,
   "id": "b1da3f47",
   "metadata": {
    "slideshow": {
     "slide_type": "-"
    }
   },
   "outputs": [],
   "source": [
    "# Write your code here\n",
    "def s(s_current, steps, t, T):\n",
    "    stepsize = T / steps\n",
    "    dw = np.random.normal() * np.sqrt(stepsize)\n",
    "    ds = mu * s_current * stepsize + sigma * s_current * dw\n",
    "    if t < T:\n",
    "        t += stepsize\n",
    "        return s(s_current + ds, steps, t, T)\n",
    "    else:\n",
    "        return s_current + ds"
   ]
  },
  {
   "cell_type": "code",
   "execution_count": 97,
   "id": "57264596",
   "metadata": {
    "slideshow": {
     "slide_type": "-"
    }
   },
   "outputs": [
    {
     "data": {
      "text/plain": [
       "151.01564914980884"
      ]
     },
     "execution_count": 97,
     "metadata": {},
     "output_type": "execute_result"
    }
   ],
   "source": [
    "T = 10\n",
    "steps = 1000\n",
    "s0 = 50\n",
    "s(s0, steps, 0, T)"
   ]
  },
  {
   "cell_type": "code",
   "execution_count": 98,
   "id": "1bca5a2f",
   "metadata": {
    "scrolled": true
   },
   "outputs": [
    {
     "name": "stdout",
     "output_type": "stream",
     "text": [
      "138.1665384094423\n"
     ]
    }
   ],
   "source": [
    "n_samples = 10000\n",
    "samples = [s(s0, steps, 0, T) for _ in range(n_samples)]\n",
    "print(np.mean(samples))"
   ]
  },
  {
   "cell_type": "code",
   "execution_count": 117,
   "id": "14ab0d45",
   "metadata": {},
   "outputs": [],
   "source": [
    "n_qubits = 10\n",
    "x_l, x_u = 0, 600\n",
    "L = x_u - x_l"
   ]
  },
  {
   "cell_type": "code",
   "execution_count": 118,
   "id": "58b36445",
   "metadata": {
    "scrolled": false
   },
   "outputs": [
    {
     "data": {
      "image/png": "[encoded data removed]",
      "text/plain": [
       "<Figure size 640x480 with 1 Axes>"
      ]
     },
     "metadata": {},
     "output_type": "display_data"
    }
   ],
   "source": [
    "hist_data = plt.hist(samples, bins=2**(n_qubits - 1), density=True, range=(x_l, x_u))"
   ]
  },
  {
   "cell_type": "code",
   "execution_count": 101,
   "id": "355aca17",
   "metadata": {},
   "outputs": [
    {
     "data": {
      "text/plain": [
       "array([1.07084295e-05, 2.99836027e-04, 1.30642840e-03, 3.09473614e-03,\n",
       "       5.09721246e-03, 5.58980022e-03, 5.99672054e-03, 6.60710103e-03,\n",
       "       6.67135160e-03, 6.22159756e-03, 6.31797343e-03, 5.92176154e-03,\n",
       "       5.63263394e-03, 4.94729445e-03, 4.57249941e-03, 3.60874076e-03,\n",
       "       3.67299133e-03, 3.23394572e-03, 2.79490011e-03, 2.68781582e-03,\n",
       "       2.02389318e-03, 2.13097748e-03, 1.89539203e-03, 1.63838972e-03,\n",
       "       1.56343071e-03, 1.34926212e-03, 1.06013452e-03, 9.10216511e-04,\n",
       "       1.14580196e-03, 8.67382793e-04, 6.96047920e-04, 6.74631061e-04,\n",
       "       7.60298497e-04, 5.35421477e-04, 4.06920323e-04, 4.81879329e-04,\n",
       "       4.28337182e-04, 5.24713048e-04, 3.10544457e-04, 2.89127598e-04,\n",
       "       3.64086604e-04, 1.82043302e-04, 1.49918014e-04, 1.39209584e-04,\n",
       "       1.71334873e-04, 1.60626443e-04, 1.07084295e-04, 1.17792725e-04,\n",
       "       1.49918014e-04, 1.60626443e-04, 1.49918014e-04, 6.42505773e-05,\n",
       "       1.17792725e-04, 3.21252886e-05, 8.56674363e-05, 7.49590068e-05,\n",
       "       5.35421477e-05, 4.28337182e-05, 9.63758659e-05, 4.28337182e-05,\n",
       "       8.56674363e-05, 1.07084295e-04, 3.21252886e-05, 0.00000000e+00])"
      ]
     },
     "execution_count": 101,
     "metadata": {},
     "output_type": "execute_result"
    }
   ],
   "source": [
    "hist_data[0]"
   ]
  },
  {
   "cell_type": "markdown",
   "id": "38782505",
   "metadata": {
    "slideshow": {
     "slide_type": "-"
    }
   },
   "source": [
    "### SECTION 2: The Quantum solution. Quantum Monte Carlo Integration + QAE\n",
    "Now you are required to derive:\n",
    "* $\\mathbb{E}[max(S_T-100, 0)]$ \n",
    "\n",
    "with a quantum computer using the Quantum Amplitude Estimation Algorithm."
   ]
  },
  {
   "cell_type": "markdown",
   "id": "580d96fd",
   "metadata": {
    "slideshow": {
     "slide_type": "subslide"
    }
   },
   "source": [
    "Some more theory:\n",
    "\n",
    "* We may want to estimate the expectation when a function is applied to the samples:\n",
    "\n",
    "$$\\mathbb{E}[f(X)]= \\sum_x f(x)p(x) \\approx \\frac{1}{N}\\sum_{j=1}^{N}f(X_j) $$\n",
    "\n",
    "\n",
    "* Monte-Carlo Integration is a three step process:\n",
    "\n",
    "<div class=\"alert alert-block alert-info\">\n",
    "Prepare samples -> Apply a function -> average\n",
    "</div>\n",
    "\n",
    "\n",
    "* and Quantum Monte-Carlo Integration is essentially the same:\n",
    "\n",
    "<div class=\"alert alert-block alert-info\">\n",
    "Prepare a state -> Apply circuit encoding the function -> QAE algorithm\n",
    "</div>\n"
   ]
  },
  {
   "cell_type": "markdown",
   "id": "474fe466",
   "metadata": {
    "slideshow": {
     "slide_type": "slide"
    }
   },
   "source": [
    "#### BACKGROUND OF THE ALGORITHM\n",
    "\n",
    "Quantum Amplitude Estimation (QAE) __[[1]](https://arxiv.org/abs/quant-ph/0005055)__  is a fundamental quantum algorithm with the potential to achieve a quadratic speedup for many applications that are classically solved through Monte Carlo (MC) simulation. \n",
    "\n",
    "This algorithm could provide an advantage in some relevant applications in the financial sector. In fact, it has been shown how to apply QAE to the problems of option pricing __[[2]](https://arxiv.org/abs/1905.02666)__, risk analysis __[[3]](https://www.nature.com/articles/s41534-019-0130-6)__, __[[4]](https://arxiv.org/abs/2212.07125)__, __[[5]](https://www.mdpi.com/1099-4300/25/4/593)__ and also for generical tasks such as numerical integration __[[6]](https://arxiv.org/abs/1504.06987)__, among others.\n",
    "\n",
    "<div class=\"alert alert-block alert-info\">\n",
    "While the estimation error bound of classical MC simulation scales as O(1/√M), where M denotes the number of (classical) samples, QAE achieves a scaling of O(1/M) for M (quantum) samples, indicating the aforementioned quadratic speedup.\n",
    "\n",
    "</div>\n",
    "\n",
    "\n",
    "QAE was first proposed in 2000 by Brassard and others. However, the first version of the algorithm, that is, the canonical version, requires a very high number of qubits and circuit depth, which makes it impractical in today’s NISQ devices. QAE combines Quantum Phase Estimation (QPE) and Grover’s Algorithm.  Later studies have focused on how to optimize the QAE algorithm. The strategy has been to remove the QPE-dependency and use only Grover iterations. It has been empirically observed that including QPE in QAE does not have any advantages, it only increases the complexity. Moreover, the removal of the QPE-dependency has resulted in reducing the resource requirements of QAE, bringing closer the possibility of practical applications of QAE in the near-term.\n",
    "\n",
    "\n",
    "There are 3 main pain points to work on when solving a problem with this algorithm:\n",
    "1. Uploading the initial probability distribution.\n",
    "2. Computation = iterations of the algorithm (circuit depth).\n",
    "3. Measuring and Post processing.\n",
    "\n",
    "Each  of the parts have their own challenge, and in order to maintain the theoretical quadratic speedup, we have to efficiently solve each of the steps.\n",
    "\n",
    "There are different versions of QAE:\n",
    "\n",
    "* Canonical QAE __[[1]](https://arxiv.org/abs/quant-ph/0005055)__\n",
    "* Maximum Likelihood Amplitude Estimation MLAE __[[2]](https://arxiv.org/abs/1904.10246)__\n",
    "* QAE Simplified QAES __[[3]](https://arxiv.org/abs/1908.10846)__\n",
    "* Iterative QAE IQAE __[[4]](https://arxiv.org/abs/1912.05559)__\n",
    "* Variational QAE __[[5]](https://arxiv.org/abs/2109.03687)__\n",
    "\n",
    "and more.\n",
    "\n",
    "In order to do Quantum Monte-Carlo Integration one may choose among the different versions of QAE.\n",
    "\n",
    "In a recent paper, Steven Herbert proposes a method to do Quantum-monte Carlo Integration called Fourier QMCI __[[6]](https://arxiv.org/abs/2105.09100)__ that provides an optimal way to do the step of encoding the function into a circuit."
   ]
  },
  {
   "cell_type": "markdown",
   "id": "8231aec0",
   "metadata": {
    "slideshow": {
     "slide_type": "subslide"
    }
   },
   "source": [
    "For more information on Quantum proposals to enhance Monte Carlo methods, read __[A Survey of Quantum Alternatives to Randomized Algorithms: Monte Carlo Integration and Beyond](https://arxiv.org/abs/2303.04945)__"
   ]
  },
  {
   "cell_type": "markdown",
   "id": "d6fa3653",
   "metadata": {
    "slideshow": {
     "slide_type": "subslide"
    }
   },
   "source": [
    "You are required to work on the 3 steps mentioned above, and hand in the outputs defined below."
   ]
  },
  {
   "cell_type": "markdown",
   "id": "9611a522",
   "metadata": {
    "slideshow": {
     "slide_type": "slide"
    }
   },
   "source": [
    "# Expected Outputs\n",
    "\n",
    "## 1. Data uploading step. \n",
    "* Explore different techniques to efficiently upload the stochastic process. Choose and implement the technique you want and justify why. For simulation experiments, you may choose the number of samples in the probability distribution you want to consider, we recommend to start with 4. \n",
    "\n",
    "<font color=red>\n",
    "Optional. Advanced exercise. (We recommend to try this after solving the rest of the challenge). Try to encode a Cox-Ingersoll-Ross process into a quantum computer. What about a Heston model?</font> \n",
    "\n",
    "\n",
    "<div class=\"alert alert-block alert-warning\">\n",
    "<b>Hints:</b> \n",
    "    \n",
    "- Read __[The Problem with Grover-Rudolph State Preparation for Quantum Monte-Carlo](https://arxiv.org/abs/2101.02240)__ to understand why efficiently doing this step is important.\n",
    "    \n",
    "- __[qGAN](https://www.nature.com/articles/s41534-019-0223-2)__ have been proposed as an alternative promising way of efficiently uploading data.\n",
    "    \n",
    "- Read about stochastic processes uploading in __[Quantum-enhanced analysis of discrete stochastic processes](https://www.nature.com/articles/s41534-021-00459-2)__\n",
    "    \n",
    "</div>"
   ]
  },
  {
   "cell_type": "code",
   "execution_count": 102,
   "id": "3af3f3a8",
   "metadata": {},
   "outputs": [
    {
     "data": {
      "text/plain": [
       "0.9999999999999999"
      ]
     },
     "execution_count": 102,
     "metadata": {},
     "output_type": "execute_result"
    }
   ],
   "source": [
    "np.sum(hist_data[0] * 600 / 2**(n_qubits - 1))"
   ]
  },
  {
   "cell_type": "code",
   "execution_count": 103,
   "id": "d3fdc8ac",
   "metadata": {
    "scrolled": true,
    "slideshow": {
     "slide_type": "fragment"
    }
   },
   "outputs": [
    {
     "data": {
      "text/html": [
       "<pre style=\"word-wrap: normal;white-space: pre;background: #fff0;line-height: 1.1;font-family: &quot;Courier New&quot;,Courier,monospace\">     »\n",
       "q_0: »\n",
       "     »\n",
       "q_1: »\n",
       "     »\n",
       "q_2: »\n",
       "     »\n",
       "q_3: »\n",
       "     »\n",
       "q_4: »\n",
       "     »\n",
       "q_5: »\n",
       "     »\n",
       "q_6: »\n",
       "     »\n",
       "«     ┌───────────────────────────────────────────────────────────────────────────────────────────────────────────────────────────────────────────────────────────────────────────────────────────────────────────────────────────────────────────────────────────────────────────────────────────────────────────────────────────────────────────────────────────────────────────────────────────────────────────────────────────────────────────────────────────────────────────────────────────────────────────────────────────────────────────────────────────────────────────┐\n",
       "«q_0: ┤0                                                                                                                                                                                                                                                                                                                                                                                                                                                                                                                                                                          ├\n",
       "«     │                                                                                                                                                                                                                                                                                                                                                                                                                                                                                                                                                                           │\n",
       "«q_1: ┤1                                                                                                                                                                                                                                                                                                                                                                                                                                                                                                                                                                          ├\n",
       "«     │                                                                                                                                                                                                                                                                                                                                                                                                                                                                                                                                                                           │\n",
       "«q_2: ┤2                                                                                                                                                                                                                                                                                                                                                                                                                                                                                                                                                                          ├\n",
       "«     │  State Preparation(0.01002,0.053019,0.11067,0.17033,0.2186,0.22892,0.23711,0.24888,0.25009,0.24151,0.24337,0.23562,0.2298,0.21536,0.20704,0.18393,0.18556,0.17412,0.16187,0.15874,0.13775,0.14134,0.1333,0.12394,0.12107,0.11247,0.099693,0.092376,0.10364,0.090176,0.08078,0.079528,0.084426,0.070849,0.061765,0.067213,0.063369,0.070137,0.053957,0.052063,0.058424,0.041312,0.03749,0.036126,0.040078,0.038806,0.031685,0.033231,0.03749,0.038806,0.03749,0.024543,0.033231,0.017354,0.02834,0.026509,0.022404,0.020039,0.030059,0.020039,0.02834,0.031685,0.017354,0) │\n",
       "«q_3: ┤3                                                                                                                                                                                                                                                                                                                                                                                                                                                                                                                                                                          ├\n",
       "«     │                                                                                                                                                                                                                                                                                                                                                                                                                                                                                                                                                                           │\n",
       "«q_4: ┤4                                                                                                                                                                                                                                                                                                                                                                                                                                                                                                                                                                          ├\n",
       "«     │                                                                                                                                                                                                                                                                                                                                                                                                                                                                                                                                                                           │\n",
       "«q_5: ┤5                                                                                                                                                                                                                                                                                                                                                                                                                                                                                                                                                                          ├\n",
       "«     └───────────────────────────────────────────────────────────────────────────────────────────────────────────────────────────────────────────────────────────────────────────────────────────────────────────────────────────────────────────────────────────────────────────────────────────────────────────────────────────────────────────────────────────────────────────────────────────────────────────────────────────────────────────────────────────────────────────────────────────────────────────────────────────────────────────────────────────────────────────┘\n",
       "«q_6: ─────────────────────────────────────────────────────────────────────────────────────────────────────────────────────────────────────────────────────────────────────────────────────────────────────────────────────────────────────────────────────────────────────────────────────────────────────────────────────────────────────────────────────────────────────────────────────────────────────────────────────────────────────────────────────────────────────────────────────────────────────────────────────────────────────────────────────────────────────────────\n",
       "«                                                                                                                                                                                                                                                                                                                                                                                                                                                                                                                                                                                  </pre>"
      ],
      "text/plain": [
       "     »\n",
       "q_0: »\n",
       "     »\n",
       "q_1: »\n",
       "     »\n",
       "q_2: »\n",
       "     »\n",
       "q_3: »\n",
       "     »\n",
       "q_4: »\n",
       "     »\n",
       "q_5: »\n",
       "     »\n",
       "q_6: »\n",
       "     »\n",
       "«     ┌───────────────────────────────────────────────────────────────────────────────────────────────────────────────────────────────────────────────────────────────────────────────────────────────────────────────────────────────────────────────────────────────────────────────────────────────────────────────────────────────────────────────────────────────────────────────────────────────────────────────────────────────────────────────────────────────────────────────────────────────────────────────────────────────────────────────────────────────────────────┐\n",
       "«q_0: ┤0                                                                                                                                                                                                                                                                                                                                                                                                                                                                                                                                                                          ├\n",
       "«     │                                                                                                                                                                                                                                                                                                                                                                                                                                                                                                                                                                           │\n",
       "«q_1: ┤1                                                                                                                                                                                                                                                                                                                                                                                                                                                                                                                                                                          ├\n",
       "«     │                                                                                                                                                                                                                                                                                                                                                                                                                                                                                                                                                                           │\n",
       "«q_2: ┤2                                                                                                                                                                                                                                                                                                                                                                                                                                                                                                                                                                          ├\n",
       "«     │  State Preparation(0.01002,0.053019,0.11067,0.17033,0.2186,0.22892,0.23711,0.24888,0.25009,0.24151,0.24337,0.23562,0.2298,0.21536,0.20704,0.18393,0.18556,0.17412,0.16187,0.15874,0.13775,0.14134,0.1333,0.12394,0.12107,0.11247,0.099693,0.092376,0.10364,0.090176,0.08078,0.079528,0.084426,0.070849,0.061765,0.067213,0.063369,0.070137,0.053957,0.052063,0.058424,0.041312,0.03749,0.036126,0.040078,0.038806,0.031685,0.033231,0.03749,0.038806,0.03749,0.024543,0.033231,0.017354,0.02834,0.026509,0.022404,0.020039,0.030059,0.020039,0.02834,0.031685,0.017354,0) │\n",
       "«q_3: ┤3                                                                                                                                                                                                                                                                                                                                                                                                                                                                                                                                                                          ├\n",
       "«     │                                                                                                                                                                                                                                                                                                                                                                                                                                                                                                                                                                           │\n",
       "«q_4: ┤4                                                                                                                                                                                                                                                                                                                                                                                                                                                                                                                                                                          ├\n",
       "«     │                                                                                                                                                                                                                                                                                                                                                                                                                                                                                                                                                                           │\n",
       "«q_5: ┤5                                                                                                                                                                                                                                                                                                                                                                                                                                                                                                                                                                          ├\n",
       "«     └───────────────────────────────────────────────────────────────────────────────────────────────────────────────────────────────────────────────────────────────────────────────────────────────────────────────────────────────────────────────────────────────────────────────────────────────────────────────────────────────────────────────────────────────────────────────────────────────────────────────────────────────────────────────────────────────────────────────────────────────────────────────────────────────────────────────────────────────────────────┘\n",
       "«q_6: ─────────────────────────────────────────────────────────────────────────────────────────────────────────────────────────────────────────────────────────────────────────────────────────────────────────────────────────────────────────────────────────────────────────────────────────────────────────────────────────────────────────────────────────────────────────────────────────────────────────────────────────────────────────────────────────────────────────────────────────────────────────────────────────────────────────────────────────────────────────────\n",
       "«                                                                                                                                                                                                                                                                                                                                                                                                                                                                                                                                                                                  "
      ]
     },
     "execution_count": 103,
     "metadata": {},
     "output_type": "execute_result"
    }
   ],
   "source": [
    "from qiskit import QuantumCircuit\n",
    "\n",
    "qc_P = QuantumCircuit(n_qubits)\n",
    "initial_probs = hist_data[0] * L / 2**(n_qubits - 1)\n",
    "initial_probs = np.sqrt(initial_probs)\n",
    "qc_P.prepare_state(initial_probs, qc_P.qubits[:-1])\n",
    "qc_P.draw()"
   ]
  },
  {
   "cell_type": "markdown",
   "id": "5c575962",
   "metadata": {
    "slideshow": {
     "slide_type": "slide"
    }
   },
   "source": [
    "\n",
    "## 2. QAE. \n",
    "* You are asked to implement Fourier QMCI __[[6]](https://arxiv.org/abs/2105.09100)__ and apply it to the function described in the problem statement $max(S_T-100, 0)$\n",
    "* What benefits does it have vs the other versions? \n",
    "\n",
    "\n",
    "<div class=\"alert alert-block alert-warning\">\n",
    "<b>Hints:</b> \n",
    "    \n",
    "- You do not need to derive the circuits of each version of QAE from scratch. Qiskit has some of the versions of QAE implemented as classes. You can explore the circuits using these classes. Check them out __[here](https://qiskit.org/documentation/apidoc/algorithms.html)__.\n",
    "- Qiskit can also help deriving the __[circuit depth](https://qiskit.org/documentation/stubs/qiskit.circuit.QuantumCircuit.depth.html)__.\n",
    "- Note that Fourier QMCI can make use of any of the versions of QAE.\n",
    "    \n",
    "</div>"
   ]
  },
  {
   "cell_type": "code",
   "execution_count": 104,
   "id": "3d494059",
   "metadata": {},
   "outputs": [],
   "source": [
    "def add_rotations(qc, n, L, x_l, n_qubits, beta):\n",
    "    omega = 2 * np.pi / L\n",
    "    alpha = n * omega * x_l - beta\n",
    "    delta = L / 2 ** n_qubits\n",
    "    theta = n * omega * delta\n",
    "    \n",
    "    qc.ry(alpha, -1)\n",
    "    for i in range(n_qubits - 1): # perhaps this loop should be reversed\n",
    "        qc.cry(2 ** i * theta, n_qubits - 2 - i, -1)"
   ]
  },
  {
   "cell_type": "code",
   "execution_count": 105,
   "id": "8d06f507",
   "metadata": {},
   "outputs": [],
   "source": [
    "def construct_qc_A(qc_P, n, L, x_l, n_qubits, beta):\n",
    "    qc_P_copy = qc_P.copy()\n",
    "    add_rotations(qc_P_copy, n, L, x_l, n_qubits, beta)\n",
    "    return qc_P_copy"
   ]
  },
  {
   "cell_type": "code",
   "execution_count": 106,
   "id": "d47fa273",
   "metadata": {},
   "outputs": [
    {
     "data": {
      "text/html": [
       "<pre style=\"word-wrap: normal;white-space: pre;background: #fff0;line-height: 1.1;font-family: &quot;Courier New&quot;,Courier,monospace\">     »\n",
       "q_0: »\n",
       "     »\n",
       "q_1: »\n",
       "     »\n",
       "q_2: »\n",
       "     »\n",
       "q_3: »\n",
       "     »\n",
       "q_4: »\n",
       "     »\n",
       "q_5: »\n",
       "     »\n",
       "q_6: »\n",
       "     »\n",
       "«     ┌───────────────────────────────────────────────────────────────────────────────────────────────────────────────────────────────────────────────────────────────────────────────────────────────────────────────────────────────────────────────────────────────────────────────────────────────────────────────────────────────────────────────────────────────────────────────────────────────────────────────────────────────────────────────────────────────────────────────────────────────────────────────────────────────────────────────────────────────────────────┐»\n",
       "«q_0: ┤0                                                                                                                                                                                                                                                                                                                                                                                                                                                                                                                                                                          ├»\n",
       "«     │                                                                                                                                                                                                                                                                                                                                                                                                                                                                                                                                                                           │»\n",
       "«q_1: ┤1                                                                                                                                                                                                                                                                                                                                                                                                                                                                                                                                                                          ├»\n",
       "«     │                                                                                                                                                                                                                                                                                                                                                                                                                                                                                                                                                                           │»\n",
       "«q_2: ┤2                                                                                                                                                                                                                                                                                                                                                                                                                                                                                                                                                                          ├»\n",
       "«     │  State Preparation(0.01002,0.053019,0.11067,0.17033,0.2186,0.22892,0.23711,0.24888,0.25009,0.24151,0.24337,0.23562,0.2298,0.21536,0.20704,0.18393,0.18556,0.17412,0.16187,0.15874,0.13775,0.14134,0.1333,0.12394,0.12107,0.11247,0.099693,0.092376,0.10364,0.090176,0.08078,0.079528,0.084426,0.070849,0.061765,0.067213,0.063369,0.070137,0.053957,0.052063,0.058424,0.041312,0.03749,0.036126,0.040078,0.038806,0.031685,0.033231,0.03749,0.038806,0.03749,0.024543,0.033231,0.017354,0.02834,0.026509,0.022404,0.020039,0.030059,0.020039,0.02834,0.031685,0.017354,0) │»\n",
       "«q_3: ┤3                                                                                                                                                                                                                                                                                                                                                                                                                                                                                                                                                                          ├»\n",
       "«     │                                                                                                                                                                                                                                                                                                                                                                                                                                                                                                                                                                           │»\n",
       "«q_4: ┤4                                                                                                                                                                                                                                                                                                                                                                                                                                                                                                                                                                          ├»\n",
       "«     │                                                                                                                                                                                                                                                                                                                                                                                                                                                                                                                                                                           │»\n",
       "«q_5: ┤5                                                                                                                                                                                                                                                                                                                                                                                                                                                                                                                                                                          ├»\n",
       "«     └─────────────────────────────────────────────────────────────────────────────────────────────────────────────────────────────────────────────────────────────────────────────────────────────────────────────────────────────────────────────────────────────────────────────────┬───────┬─────────────────────────────────────────────────────────────────────────────────────────────────────────────────────────────────────────────────────────────────────────────────────────────────────────────────────────────────────────────────────────────────────────────────┘»\n",
       "«q_6: ──────────────────────────────────────────────────────────────────────────────────────────────────────────────────────────────────────────────────────────────────────────────────────────────────────────────────────────────────────────────────────────────────────────────────┤ Ry(0) ├──────────────────────────────────────────────────────────────────────────────────────────────────────────────────────────────────────────────────────────────────────────────────────────────────────────────────────────────────────────────────────────────────────────────────»\n",
       "«                                                                                                                                                                                                                                                                                       └───────┘                                                                                                                                                                                                                                                                                  »\n",
       "«                                                                       \n",
       "«q_0: ─────────────────────────────────────────────────────────────■────\n",
       "«                                                                  │    \n",
       "«q_1: ───────────────────────────────────────────────────■─────────┼────\n",
       "«                                                        │         │    \n",
       "«q_2: ────────────────────────────────────────■──────────┼─────────┼────\n",
       "«                                             │          │         │    \n",
       "«q_3: ─────────────────────────────■──────────┼──────────┼─────────┼────\n",
       "«                                  │          │          │         │    \n",
       "«q_4: ─────────────────■───────────┼──────────┼──────────┼─────────┼────\n",
       "«                      │           │          │          │         │    \n",
       "«q_5: ─────■───────────┼───────────┼──────────┼──────────┼─────────┼────\n",
       "«     ┌────┴─────┐┌────┴─────┐┌────┴────┐┌────┴────┐┌────┴────┐┌───┴───┐\n",
       "«q_6: ┤ Ry(π/32) ├┤ Ry(π/16) ├┤ Ry(π/8) ├┤ Ry(π/4) ├┤ Ry(π/2) ├┤ Ry(π) ├\n",
       "«     └──────────┘└──────────┘└─────────┘└─────────┘└─────────┘└───────┘</pre>"
      ],
      "text/plain": [
       "     »\n",
       "q_0: »\n",
       "     »\n",
       "q_1: »\n",
       "     »\n",
       "q_2: »\n",
       "     »\n",
       "q_3: »\n",
       "     »\n",
       "q_4: »\n",
       "     »\n",
       "q_5: »\n",
       "     »\n",
       "q_6: »\n",
       "     »\n",
       "«     ┌───────────────────────────────────────────────────────────────────────────────────────────────────────────────────────────────────────────────────────────────────────────────────────────────────────────────────────────────────────────────────────────────────────────────────────────────────────────────────────────────────────────────────────────────────────────────────────────────────────────────────────────────────────────────────────────────────────────────────────────────────────────────────────────────────────────────────────────────────────────┐»\n",
       "«q_0: ┤0                                                                                                                                                                                                                                                                                                                                                                                                                                                                                                                                                                          ├»\n",
       "«     │                                                                                                                                                                                                                                                                                                                                                                                                                                                                                                                                                                           │»\n",
       "«q_1: ┤1                                                                                                                                                                                                                                                                                                                                                                                                                                                                                                                                                                          ├»\n",
       "«     │                                                                                                                                                                                                                                                                                                                                                                                                                                                                                                                                                                           │»\n",
       "«q_2: ┤2                                                                                                                                                                                                                                                                                                                                                                                                                                                                                                                                                                          ├»\n",
       "«     │  State Preparation(0.01002,0.053019,0.11067,0.17033,0.2186,0.22892,0.23711,0.24888,0.25009,0.24151,0.24337,0.23562,0.2298,0.21536,0.20704,0.18393,0.18556,0.17412,0.16187,0.15874,0.13775,0.14134,0.1333,0.12394,0.12107,0.11247,0.099693,0.092376,0.10364,0.090176,0.08078,0.079528,0.084426,0.070849,0.061765,0.067213,0.063369,0.070137,0.053957,0.052063,0.058424,0.041312,0.03749,0.036126,0.040078,0.038806,0.031685,0.033231,0.03749,0.038806,0.03749,0.024543,0.033231,0.017354,0.02834,0.026509,0.022404,0.020039,0.030059,0.020039,0.02834,0.031685,0.017354,0) │»\n",
       "«q_3: ┤3                                                                                                                                                                                                                                                                                                                                                                                                                                                                                                                                                                          ├»\n",
       "«     │                                                                                                                                                                                                                                                                                                                                                                                                                                                                                                                                                                           │»\n",
       "«q_4: ┤4                                                                                                                                                                                                                                                                                                                                                                                                                                                                                                                                                                          ├»\n",
       "«     │                                                                                                                                                                                                                                                                                                                                                                                                                                                                                                                                                                           │»\n",
       "«q_5: ┤5                                                                                                                                                                                                                                                                                                                                                                                                                                                                                                                                                                          ├»\n",
       "«     └─────────────────────────────────────────────────────────────────────────────────────────────────────────────────────────────────────────────────────────────────────────────────────────────────────────────────────────────────────────────────────────────────────────────────┬───────┬─────────────────────────────────────────────────────────────────────────────────────────────────────────────────────────────────────────────────────────────────────────────────────────────────────────────────────────────────────────────────────────────────────────────────┘»\n",
       "«q_6: ──────────────────────────────────────────────────────────────────────────────────────────────────────────────────────────────────────────────────────────────────────────────────────────────────────────────────────────────────────────────────────────────────────────────────┤ Ry(0) ├──────────────────────────────────────────────────────────────────────────────────────────────────────────────────────────────────────────────────────────────────────────────────────────────────────────────────────────────────────────────────────────────────────────────────»\n",
       "«                                                                                                                                                                                                                                                                                       └───────┘                                                                                                                                                                                                                                                                                  »\n",
       "«                                                                       \n",
       "«q_0: ─────────────────────────────────────────────────────────────■────\n",
       "«                                                                  │    \n",
       "«q_1: ───────────────────────────────────────────────────■─────────┼────\n",
       "«                                                        │         │    \n",
       "«q_2: ────────────────────────────────────────■──────────┼─────────┼────\n",
       "«                                             │          │         │    \n",
       "«q_3: ─────────────────────────────■──────────┼──────────┼─────────┼────\n",
       "«                                  │          │          │         │    \n",
       "«q_4: ─────────────────■───────────┼──────────┼──────────┼─────────┼────\n",
       "«                      │           │          │          │         │    \n",
       "«q_5: ─────■───────────┼───────────┼──────────┼──────────┼─────────┼────\n",
       "«     ┌────┴─────┐┌────┴─────┐┌────┴────┐┌────┴────┐┌────┴────┐┌───┴───┐\n",
       "«q_6: ┤ Ry(π/32) ├┤ Ry(π/16) ├┤ Ry(π/8) ├┤ Ry(π/4) ├┤ Ry(π/2) ├┤ Ry(π) ├\n",
       "«     └──────────┘└──────────┘└─────────┘└─────────┘└─────────┘└───────┘"
      ]
     },
     "execution_count": 106,
     "metadata": {},
     "output_type": "execute_result"
    }
   ],
   "source": [
    "qc_A = construct_qc_A(qc_P, 2, L, x_l, n_qubits, 0)\n",
    "qc_A.draw()"
   ]
  },
  {
   "cell_type": "code",
   "execution_count": 107,
   "id": "a9fb49d0",
   "metadata": {
    "scrolled": true
   },
   "outputs": [],
   "source": [
    "# sampler = Sampler()\n",
    "\n",
    "# problem = EstimationProblem(\n",
    "#     state_preparation=qc,\n",
    "#     objective_qubits=[n_qubits - 1]\n",
    "# )\n",
    "\n",
    "# mlae = MaximumLikelihoodAmplitudeEstimation(\n",
    "#     evaluation_schedule=3,  # log2 of the maximal Grover power\n",
    "#     sampler=sampler,\n",
    "# )\n",
    "# mlae_result = mlae.estimate(problem)\n",
    "\n",
    "# print(\"Estimate:\", mlae_result.estimation)"
   ]
  },
  {
   "cell_type": "code",
   "execution_count": 108,
   "id": "196b090d",
   "metadata": {},
   "outputs": [],
   "source": [
    "from scipy.integrate import quad\n",
    "\n",
    "def f(s):\n",
    "    return s\n",
    "#     return np.max([s - 100, 0])\n",
    "\n",
    "def a_n(f, n, L):\n",
    "    return 2 / L * quad(lambda s: f(s) * np.cos(2 * np.pi * n * s / L), 0, L)[0]\n",
    "def b_n(f, n, L):\n",
    "    return 2 / L * quad(lambda s: f(s) * np.sin(2 * np.pi * n * s / L), 0, L)[0]"
   ]
  },
  {
   "cell_type": "code",
   "execution_count": 109,
   "id": "010c84b4",
   "metadata": {},
   "outputs": [],
   "source": [
    "# n_max = 10\n",
    "# for n in range(n_max):\n",
    "#     print(f\"{a_n(f, n, L):<30} {b_n(f, n, L)}\")"
   ]
  },
  {
   "cell_type": "code",
   "execution_count": 110,
   "id": "23c1bf77",
   "metadata": {},
   "outputs": [
    {
     "data": {
      "text/plain": [
       "(0.0, 600.0)"
      ]
     },
     "execution_count": 110,
     "metadata": {},
     "output_type": "execute_result"
    },
    {
     "data": {
      "image/png": "[encoded data removed]",
      "text/plain": [
       "<Figure size 640x480 with 1 Axes>"
      ]
     },
     "metadata": {},
     "output_type": "display_data"
    }
   ],
   "source": [
    "def g(t, n_max):\n",
    "    L = 600\n",
    "    res = a_n(f, 0, L) / 2\n",
    "    if n_max == 0:\n",
    "        return res\n",
    "    else:\n",
    "        n = 1\n",
    "        while n <= n_max:\n",
    "            res += a_n(f, n, L) * np.cos(2 * np.pi * n * t / L) + \\\n",
    "                   b_n(f, n, L) * np.sin(2 * np.pi * n * t / L)\n",
    "            n += 1\n",
    "        return res\n",
    "    \n",
    "# x_l, x_u = -100, 700\n",
    "t = np.linspace(x_l, x_u, 100)\n",
    "plt.plot(t, g(t, 30))\n",
    "plt.xlim(x_l, x_u)"
   ]
  },
  {
   "cell_type": "code",
   "execution_count": 115,
   "id": "21918c44",
   "metadata": {},
   "outputs": [],
   "source": [
    "def compute_exp_val(n_max, qc_P, x_l, n_qubits):\n",
    "    epsilon = 0.01\n",
    "    alpha = 0.05\n",
    "    mu_n = np.empty((2, n_max))\n",
    "    \n",
    "    first_term = a_n(f, 0, L) / 2\n",
    "    for i, beta in enumerate([0., np.pi / 2]):\n",
    "        for n in range(1, n_max + 1):\n",
    "            time_start = time.time()\n",
    "            problem = EstimationProblem(\n",
    "                state_preparation=construct_qc_A(qc_P, n, L, x_l, n_qubits, beta),\n",
    "                objective_qubits=[-1]\n",
    "            )\n",
    "            ae = IterativeAmplitudeEstimation(\n",
    "                epsilon_target=epsilon, \n",
    "                alpha=alpha, \n",
    "                sampler=Sampler(run_options={\"shots\": 100})\n",
    "            )\n",
    "            qae_res = ae.estimate(problem).estimation_processed\n",
    "            qae_res = 1 - 2 * qae_res\n",
    "                \n",
    "            if beta == 0.:\n",
    "                mu_n[i, n - 1] = qae_res * a_n(f, n, L)\n",
    "            elif beta == np.pi / 2:\n",
    "                mu_n[i, n - 1] = qae_res * b_n(f, n, L)\n",
    "            else:\n",
    "                raise ValueError(\"Invalid value for beta\")\n",
    "            time_end = time.time()\n",
    "            time_diff = time_end - time_start\n",
    "            print(f\"Calculated (beta, n) = ({beta:.2f}, {n})  ({time_diff:.1f}s)\")\n",
    "    return first_term + np.sum(mu_n)"
   ]
  },
  {
   "cell_type": "code",
   "execution_count": 116,
   "id": "663a9ed8",
   "metadata": {},
   "outputs": [
    {
     "name": "stdout",
     "output_type": "stream",
     "text": [
      "Calculated (beta, n) = (0.00, 1)  (36.2s)\n",
      "Calculated (beta, n) = (0.00, 2)  (31.4s)\n",
      "Calculated (beta, n) = (0.00, 3)  (32.0s)\n",
      "Calculated (beta, n) = (0.00, 4)  (15.5s)\n",
      "Calculated (beta, n) = (0.00, 5)  (10.9s)\n",
      "Calculated (beta, n) = (0.00, 6)  (10.4s)\n",
      "Calculated (beta, n) = (0.00, 7)  (24.0s)\n",
      "Calculated (beta, n) = (0.00, 8)  (14.4s)\n",
      "Calculated (beta, n) = (0.00, 9)  (14.0s)\n",
      "Calculated (beta, n) = (0.00, 10)  (24.2s)\n",
      "Calculated (beta, n) = (0.00, 11)  (18.9s)\n",
      "Calculated (beta, n) = (0.00, 12)  (14.2s)\n",
      "Calculated (beta, n) = (0.00, 13)  (23.3s)\n",
      "Calculated (beta, n) = (0.00, 14)  (7.8s)\n",
      "Calculated (beta, n) = (0.00, 15)  (19.3s)\n",
      "Calculated (beta, n) = (0.00, 16)  (15.1s)\n",
      "Calculated (beta, n) = (0.00, 17)  (16.5s)\n",
      "Calculated (beta, n) = (0.00, 18)  (16.7s)\n",
      "Calculated (beta, n) = (0.00, 19)  (18.6s)\n",
      "Calculated (beta, n) = (0.00, 20)  (23.8s)\n",
      "Calculated (beta, n) = (1.57, 1)  (25.3s)\n",
      "Calculated (beta, n) = (1.57, 2)  (23.2s)\n",
      "Calculated (beta, n) = (1.57, 3)  (33.8s)\n",
      "Calculated (beta, n) = (1.57, 4)  (17.7s)\n",
      "Calculated (beta, n) = (1.57, 5)  (18.8s)\n",
      "Calculated (beta, n) = (1.57, 6)  (19.2s)\n",
      "Calculated (beta, n) = (1.57, 7)  (11.0s)\n",
      "Calculated (beta, n) = (1.57, 8)  (19.1s)\n",
      "Calculated (beta, n) = (1.57, 9)  (19.0s)\n",
      "Calculated (beta, n) = (1.57, 10)  (8.0s)\n",
      "Calculated (beta, n) = (1.57, 11)  (32.8s)\n",
      "Calculated (beta, n) = (1.57, 12)  (11.8s)\n",
      "Calculated (beta, n) = (1.57, 13)  (15.8s)\n",
      "Calculated (beta, n) = (1.57, 14)  (14.0s)\n",
      "Calculated (beta, n) = (1.57, 15)  (23.5s)\n",
      "Calculated (beta, n) = (1.57, 16)  (16.4s)\n",
      "Calculated (beta, n) = (1.57, 17)  (36.5s)\n",
      "Calculated (beta, n) = (1.57, 18)  (8.8s)\n",
      "Calculated (beta, n) = (1.57, 19)  (23.7s)\n",
      "Calculated (beta, n) = (1.57, 20)  (24.4s)\n"
     ]
    },
    {
     "data": {
      "text/plain": [
       "141.97822712958728"
      ]
     },
     "execution_count": 116,
     "metadata": {},
     "output_type": "execute_result"
    }
   ],
   "source": [
    "exp_val = compute_exp_val(20, qc_P, x_l, n_qubits)\n",
    "exp_val"
   ]
  },
  {
   "cell_type": "markdown",
   "id": "fb68bf26",
   "metadata": {
    "slideshow": {
     "slide_type": "slide"
    }
   },
   "source": [
    "## 3. Execution\n",
    "* Let's think about parallelization: What versions of QAE can be parallelized? At which level (iteration/shot)? When does it become relevant? What advantage does it bring compared to a sequential execution?\n",
    "* Explain how you would parallelize the Fourier QMCI and the QAE you have chosen if that QAE version can be paralellized.\n",
    "* Define a workload of tasks and orquestrate its execution. Include any assumptions you make (e.g. I have access to 20 Quantum Computers based in the same data center...).\n",
    "* Compare the different approaches.\n",
    "\n",
    "\n",
    "<div class=\"alert alert-block alert-warning\">\n",
    "<b>Hints:</b> \n",
    "    \n",
    "- Read the steps of the algorithm and think whether iterations depend on the previous one or the can be done simultaneously in different quantum backends. \n",
    "_ Think about how to parallelize Fourier QMCI.\n",
    "- Think about the number of iterations, circuit depth, and the number of shots.\n",
    "- Use __[covalent.xyz](https://www.covalent.xyz)__ to define a workflow of the things you need to execute.\n",
    "- Check the opensource platform __[NVIDIA CUDA Quantum](https://developer.nvidia.com/cuda-quantum)__ and their view on orchestration of hybrid workflows. \n",
    "- __[Orquestra](https://www.orquestra.io)__ by Zapata Computing is not open source, but may also give you some ideas.\n",
    "    \n",
    "- <font color=red> (Optional. Avanced) Other proposals __[Error Resilient Quantum Amplitude Estimation from Parallel Quantum Phase Estimation](https://arxiv.org/abs/2204.01337)__ </font>\n",
    "    \n",
    "</div>"
   ]
  },
  {
   "cell_type": "code",
   "execution_count": null,
   "id": "3c3598db",
   "metadata": {
    "slideshow": {
     "slide_type": "fragment"
    }
   },
   "outputs": [],
   "source": [
    "# Write your code here"
   ]
  },
  {
   "cell_type": "markdown",
   "id": "73c55c25",
   "metadata": {
    "slideshow": {
     "slide_type": "slide"
    }
   },
   "source": [
    "<font color=red>\n",
    "\n",
    "## 4. Noise analysis step (Optional. Advanced.)\n",
    "\n",
    "(We recommend to try this after solving the rest of the challenge).\n",
    "    \n",
    "* Can you execute QMC in NISQ devices?\n",
    "* How would you execute it in a quantum backend?\n",
    "* How did you compile the circuits? What is the circuit depth after transpilation?\n",
    "* Did you use any noise mitigation technique? If yes, explain which one and how if affected the results.\n",
    "    \n",
    "</font>\n",
    "\n",
    "\n",
    "\n",
    "\n",
    "<div class=\"alert alert-block alert-warning\">\n",
    "<b>Hints:</b> \n",
    "\n",
    "- You can use an open backend from IBM Quantum, or an Aer simulator.\n",
    "    \n",
    "- Check this paper about __[Noise-Aware QAE](https://arxiv.org/abs/2109.04840)__\n",
    "\n",
    "- You can use __[Fire Opal](https://q-ctrl.com/fire-opal)__ to optimize your results. __[Documentation](https://docs.q-ctrl.com/fire-opal/user-guides/how-to-set-up-your-environment-and-install-fire-opal)__\n",
    "\n",
    "\n",
    "    \n",
    "</div>\n",
    "\n",
    "\n"
   ]
  },
  {
   "cell_type": "code",
   "execution_count": null,
   "id": "61b21d19",
   "metadata": {
    "slideshow": {
     "slide_type": "fragment"
    }
   },
   "outputs": [],
   "source": [
    "# Write your code here"
   ]
  },
  {
   "cell_type": "markdown",
   "id": "543030d7",
   "metadata": {
    "slideshow": {
     "slide_type": "slide"
    }
   },
   "source": [
    "## 5. Benchmarking\n",
    "* Do you estimate this use case will benefit from NISQ devices or do we need Fault Tolerant Quantum computers?\n",
    "* What metric would be more appropiate to compare the performance of your Quantum Monte Carlo solver vs the current classical methods?\n",
    "* <font color=red> (Optional. Advanced) Assume you are a quant at a financial firm. You need to apply Monte Carlo simulation to price (i.e. the expectation of the total assets value) of a portfolio of fixed-income assets (e.g. 10k assets). An accuracy of the order of epsilon = 10e-6 is needed. Notice that the underlying uncertainty of fixed-income assets stems from interest rate and they do not have to follow a GBM like model. For simplicity, take into account that interest rates are only modeled up to one period (T=1), resulting on one-dimensional distribution. There are other models typically used to model the paths of interest rates. Make a rough but reasonable estimation of the quantum hardware resources needed to implement quantum Monte Carlo simulation for this set up. </font>\n",
    "\n",
    "\n",
    "Cite your references."
   ]
  },
  {
   "cell_type": "code",
   "execution_count": null,
   "id": "85215971",
   "metadata": {
    "slideshow": {
     "slide_type": "fragment"
    }
   },
   "outputs": [],
   "source": [
    "# Write your code here"
   ]
  },
  {
   "cell_type": "markdown",
   "id": "0057e918",
   "metadata": {
    "slideshow": {
     "slide_type": "slide"
    }
   },
   "source": [
    "## 6. Pitch your quantum strategy to a client: a bank\n",
    "Imagine you are part of the Quantum team at Moody's. You are meeting the CIO of an important bank in the US, and you need to convince him/her in 5 minutes about why they should start investing in quantum computing today, and define the steps of a high level roadmap they would need to follow to get quantum ready. You can use the Quantum Monte Carlo use case as a proof of concept to support your pitch. \n",
    "\n",
    "You may use up to 3 slides, including roadmap, PoC results and executive summary on why to invest in quantum today.\n",
    "\n",
    "\n",
    "<div class=\"alert alert-block alert-warning\">\n",
    "<b>Hints:</b> \n",
    "    \n",
    "- Research what is an executive summary, and an elevator pitch, and try to follow some of the ideas of these communication tools.\n",
    "- Think about the person you are presenting to. Are they technical people? What is important to them? Build a empathy map to help you build the right message.\n",
    "\n",
    "</div>"
   ]
  },
  {
   "cell_type": "markdown",
   "id": "9b594bec",
   "metadata": {
    "slideshow": {
     "slide_type": "fragment"
    }
   },
   "source": [
    "<img src=\"files/empathymap.png\"  width=\"200\">"
   ]
  },
  {
   "cell_type": "code",
   "execution_count": 5,
   "id": "23b2fb94",
   "metadata": {
    "slideshow": {
     "slide_type": "fragment"
    }
   },
   "outputs": [],
   "source": [
    "# Build your presentation and rehearse your pitch!"
   ]
  },
  {
   "cell_type": "markdown",
   "id": "5b23c2b7",
   "metadata": {
    "slideshow": {
     "slide_type": "slide"
    }
   },
   "source": [
    "# This is the end of the challenge. Good luck..."
   ]
  },
  {
   "cell_type": "markdown",
   "id": "aaf0d3ef",
   "metadata": {
    "slideshow": {
     "slide_type": "fragment"
    }
   },
   "source": [
    "<img src=\"files/keepcalm.png\"  width=\"200\">"
   ]
  }
 ],
 "metadata": {
  "kernelspec": {
   "display_name": "Python 3 (ipykernel)",
   "language": "python",
   "name": "python3"
  },
  "language_info": {
   "codemirror_mode": {
    "name": "ipython",
    "version": 3
   },
   "file_extension": ".py",
   "mimetype": "text/x-python",
   "name": "python",
   "nbconvert_exporter": "python",
   "pygments_lexer": "ipython3",
   "version": "3.9.12"
  }
 },
 "nbformat": 4,
 "nbformat_minor": 5
}
